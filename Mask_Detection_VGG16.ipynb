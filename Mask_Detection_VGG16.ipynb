{
 "cells": [
  {
   "cell_type": "code",
   "execution_count": 1,
   "metadata": {
    "id": "qPOdxn-gKFFq"
   },
   "outputs": [],
   "source": [
    "from tensorflow.keras.layers import Dense,Flatten,Input                         # TO BUILT LAYERS FOR OUR NEURAL NETWORK\n",
    "from tensorflow.keras.models import Model,load_model                            # TO CREATE AND LOAD MODEL\n",
    "from tensorflow.keras.preprocessing.image import ImageDataGenerator,load_img    # DATA AUGMENTATION AND LOAD IMAGES\n",
    "import matplotlib.pyplot as plt                                                 # TO PLOT GRAPHS\n",
    "from glob import glob                                                           # TO RETRIEVE THE FOLDERS \n",
    "from tensorflow.keras.applications import VGG16                                 # OUR TRANSFER LERANING TECHNIQUE"
   ]
  },
  {
   "cell_type": "code",
   "execution_count": 2,
   "metadata": {
    "id": "LxApjJcRLkWk"
   },
   "outputs": [],
   "source": [
    "IMAGE_SIZE=[224,224]                                   # DEFAULT IMAGE SIZE FOR ALL TRANSFER LEARNING TECHNIQUES\n",
    "\n",
    "\n",
    "# DATA PATHS IN GOOGLE COLAB\n",
    "train_path='/content/drive/MyDrive/dataset/train'      \n",
    "val_path='/content/drive/MyDrive/dataset/valid'       \n",
    "test_path='/content/drive/MyDrive/dataset/test'\n"
   ]
  },
  {
   "cell_type": "code",
   "execution_count": 3,
   "metadata": {
    "colab": {
     "base_uri": "https://localhost:8080/"
    },
    "id": "mEMrUS9NMIEC",
    "outputId": "b2151d86-f259-4ebf-bfcc-965f42e148bd"
   },
   "outputs": [
    {
     "data": {
      "text/plain": [
       "['/content/drive/MyDrive/dataset/train/without_mask',\n",
       " '/content/drive/MyDrive/dataset/train/with_mask']"
      ]
     },
     "execution_count": 3,
     "metadata": {
      "tags": []
     },
     "output_type": "execute_result"
    }
   ],
   "source": [
    "folders=glob('/content/drive/MyDrive/dataset/train/*')\n",
    "folders                                                      # WE GET FILE NAMES IN THE FOLDER"
   ]
  },
  {
   "cell_type": "code",
   "execution_count": 4,
   "metadata": {
    "colab": {
     "base_uri": "https://localhost:8080/"
    },
    "id": "8aDcjbRcMUuN",
    "outputId": "ab5cf4c1-3ca0-453b-fd0d-f3863d07fd0a"
   },
   "outputs": [
    {
     "name": "stdout",
     "output_type": "stream",
     "text": [
      "Downloading data from https://storage.googleapis.com/tensorflow/keras-applications/vgg16/vgg16_weights_tf_dim_ordering_tf_kernels_notop.h5\n",
      "58892288/58889256 [==============================] - 1s 0us/step\n"
     ]
    }
   ],
   "source": [
    "vgg16=VGG16(input_shape=IMAGE_SIZE+[3],weights='imagenet',include_top=False)   # INITIALIZING VGG16 TO DOWNLOAD PRETRAINED WEIGHTS"
   ]
  },
  {
   "cell_type": "code",
   "execution_count": 5,
   "metadata": {
    "id": "JR0bjceUMrKQ"
   },
   "outputs": [],
   "source": [
    "for layer in vgg16.layers:\n",
    "  layer.trainable=False                             # TELLING OUT MODEL THAT WE NEED PRETRAINED LAYERS"
   ]
  },
  {
   "cell_type": "code",
   "execution_count": 6,
   "metadata": {
    "colab": {
     "base_uri": "https://localhost:8080/"
    },
    "id": "XB8qyFvlM9GL",
    "outputId": "f5d67309-0792-4825-bf38-019e1cc34455"
   },
   "outputs": [
    {
     "name": "stdout",
     "output_type": "stream",
     "text": [
      "Model: \"vgg16\"\n",
      "_________________________________________________________________\n",
      "Layer (type)                 Output Shape              Param #   \n",
      "=================================================================\n",
      "input_1 (InputLayer)         [(None, 224, 224, 3)]     0         \n",
      "_________________________________________________________________\n",
      "block1_conv1 (Conv2D)        (None, 224, 224, 64)      1792      \n",
      "_________________________________________________________________\n",
      "block1_conv2 (Conv2D)        (None, 224, 224, 64)      36928     \n",
      "_________________________________________________________________\n",
      "block1_pool (MaxPooling2D)   (None, 112, 112, 64)      0         \n",
      "_________________________________________________________________\n",
      "block2_conv1 (Conv2D)        (None, 112, 112, 128)     73856     \n",
      "_________________________________________________________________\n",
      "block2_conv2 (Conv2D)        (None, 112, 112, 128)     147584    \n",
      "_________________________________________________________________\n",
      "block2_pool (MaxPooling2D)   (None, 56, 56, 128)       0         \n",
      "_________________________________________________________________\n",
      "block3_conv1 (Conv2D)        (None, 56, 56, 256)       295168    \n",
      "_________________________________________________________________\n",
      "block3_conv2 (Conv2D)        (None, 56, 56, 256)       590080    \n",
      "_________________________________________________________________\n",
      "block3_conv3 (Conv2D)        (None, 56, 56, 256)       590080    \n",
      "_________________________________________________________________\n",
      "block3_pool (MaxPooling2D)   (None, 28, 28, 256)       0         \n",
      "_________________________________________________________________\n",
      "block4_conv1 (Conv2D)        (None, 28, 28, 512)       1180160   \n",
      "_________________________________________________________________\n",
      "block4_conv2 (Conv2D)        (None, 28, 28, 512)       2359808   \n",
      "_________________________________________________________________\n",
      "block4_conv3 (Conv2D)        (None, 28, 28, 512)       2359808   \n",
      "_________________________________________________________________\n",
      "block4_pool (MaxPooling2D)   (None, 14, 14, 512)       0         \n",
      "_________________________________________________________________\n",
      "block5_conv1 (Conv2D)        (None, 14, 14, 512)       2359808   \n",
      "_________________________________________________________________\n",
      "block5_conv2 (Conv2D)        (None, 14, 14, 512)       2359808   \n",
      "_________________________________________________________________\n",
      "block5_conv3 (Conv2D)        (None, 14, 14, 512)       2359808   \n",
      "_________________________________________________________________\n",
      "block5_pool (MaxPooling2D)   (None, 7, 7, 512)         0         \n",
      "=================================================================\n",
      "Total params: 14,714,688\n",
      "Trainable params: 0\n",
      "Non-trainable params: 14,714,688\n",
      "_________________________________________________________________\n"
     ]
    }
   ],
   "source": [
    "vgg16.summary()                                     # METADATA OF THE MODEL"
   ]
  },
  {
   "cell_type": "code",
   "execution_count": 27,
   "metadata": {
    "id": "nRe4FCieM_Fo"
   },
   "outputs": [],
   "source": [
    "x=Flatten()(vgg16.output)                                       #  FLATTENING THE BOTTLENECK LAYER SO THAT WE CAN IMPLEMENT THE CLASSIFIER ON OUR OWN"
   ]
  },
  {
   "cell_type": "code",
   "execution_count": 28,
   "metadata": {
    "id": "ZDWp4S1yNsZq"
   },
   "outputs": [],
   "source": [
    "prediction=Dense(len(folders),activation='softmax')(x)          # OUTPUT LAYER \n",
    "\n",
    "model=Model(inputs=vgg16.input,outputs=prediction)              # CONNECTING OUR LAYERS TO VGGNET"
   ]
  },
  {
   "cell_type": "code",
   "execution_count": 29,
   "metadata": {
    "colab": {
     "base_uri": "https://localhost:8080/"
    },
    "id": "3XXD1xKgPAPt",
    "outputId": "b80a51ad-8a51-4907-fead-5a8732976484"
   },
   "outputs": [
    {
     "name": "stdout",
     "output_type": "stream",
     "text": [
      "Model: \"model_3\"\n",
      "_________________________________________________________________\n",
      "Layer (type)                 Output Shape              Param #   \n",
      "=================================================================\n",
      "input_1 (InputLayer)         [(None, 224, 224, 3)]     0         \n",
      "_________________________________________________________________\n",
      "block1_conv1 (Conv2D)        (None, 224, 224, 64)      1792      \n",
      "_________________________________________________________________\n",
      "block1_conv2 (Conv2D)        (None, 224, 224, 64)      36928     \n",
      "_________________________________________________________________\n",
      "block1_pool (MaxPooling2D)   (None, 112, 112, 64)      0         \n",
      "_________________________________________________________________\n",
      "block2_conv1 (Conv2D)        (None, 112, 112, 128)     73856     \n",
      "_________________________________________________________________\n",
      "block2_conv2 (Conv2D)        (None, 112, 112, 128)     147584    \n",
      "_________________________________________________________________\n",
      "block2_pool (MaxPooling2D)   (None, 56, 56, 128)       0         \n",
      "_________________________________________________________________\n",
      "block3_conv1 (Conv2D)        (None, 56, 56, 256)       295168    \n",
      "_________________________________________________________________\n",
      "block3_conv2 (Conv2D)        (None, 56, 56, 256)       590080    \n",
      "_________________________________________________________________\n",
      "block3_conv3 (Conv2D)        (None, 56, 56, 256)       590080    \n",
      "_________________________________________________________________\n",
      "block3_pool (MaxPooling2D)   (None, 28, 28, 256)       0         \n",
      "_________________________________________________________________\n",
      "block4_conv1 (Conv2D)        (None, 28, 28, 512)       1180160   \n",
      "_________________________________________________________________\n",
      "block4_conv2 (Conv2D)        (None, 28, 28, 512)       2359808   \n",
      "_________________________________________________________________\n",
      "block4_conv3 (Conv2D)        (None, 28, 28, 512)       2359808   \n",
      "_________________________________________________________________\n",
      "block4_pool (MaxPooling2D)   (None, 14, 14, 512)       0         \n",
      "_________________________________________________________________\n",
      "block5_conv1 (Conv2D)        (None, 14, 14, 512)       2359808   \n",
      "_________________________________________________________________\n",
      "block5_conv2 (Conv2D)        (None, 14, 14, 512)       2359808   \n",
      "_________________________________________________________________\n",
      "block5_conv3 (Conv2D)        (None, 14, 14, 512)       2359808   \n",
      "_________________________________________________________________\n",
      "block5_pool (MaxPooling2D)   (None, 7, 7, 512)         0         \n",
      "_________________________________________________________________\n",
      "flatten_1 (Flatten)          (None, 25088)             0         \n",
      "_________________________________________________________________\n",
      "dense_3 (Dense)              (None, 2)                 50178     \n",
      "=================================================================\n",
      "Total params: 14,764,866\n",
      "Trainable params: 50,178\n",
      "Non-trainable params: 14,714,688\n",
      "_________________________________________________________________\n"
     ]
    }
   ],
   "source": [
    "model.summary()                                                 # FINAL SUMMARY OF OUR MODEL"
   ]
  },
  {
   "cell_type": "code",
   "execution_count": 30,
   "metadata": {
    "id": "RopMmh-YPGyI"
   },
   "outputs": [],
   "source": [
    "model.compile(loss='categorical_crossentropy',optimizer='adam',metrics=['accuracy'])   # COMPILING OUR MODEL BY TELLING OUR REQUIREMENTS"
   ]
  },
  {
   "cell_type": "code",
   "execution_count": 15,
   "metadata": {
    "id": "D95PP_pmPvWJ"
   },
   "outputs": [],
   "source": [
    "train_datagen=ImageDataGenerator(rescale=1./255,\n",
    "                                 shear_range=0.2,                              # DATA AUGMENTATION \n",
    "                                 zoom_range=0.2,\n",
    "                                 horizontal_flip=True)\n",
    "val_datagen=ImageDataGenerator(rescale=1./255)"
   ]
  },
  {
   "cell_type": "code",
   "execution_count": 33,
   "metadata": {
    "colab": {
     "base_uri": "https://localhost:8080/"
    },
    "id": "NTfgTlsLQaoV",
    "outputId": "f27cca74-ec62-463b-ff7a-fee454d118e2"
   },
   "outputs": [
    {
     "name": "stdout",
     "output_type": "stream",
     "text": [
      "Found 3649 images belonging to 2 classes.\n",
      "Found 806 images belonging to 2 classes.\n"
     ]
    }
   ],
   "source": [
    "train_set=train_datagen.flow_from_directory(train_path,target_size=(224,224),batch_size=100,class_mode='categorical')  # STORE OUR DATA FOR TRAINING\n",
    "val_set=val_datagen.flow_from_directory(val_path,target_size=(224,224),batch_size=100,class_mode='categorical')        # FOR VALIDATING OUR MODEL"
   ]
  },
  {
   "cell_type": "code",
   "execution_count": 19,
   "metadata": {
    "id": "koy0hbuHQ4_M"
   },
   "outputs": [],
   "source": [
    "# THIS BLOCK IS MANDATORY SO THAT OUR SYSTEM KNOWS HOW MUCH GPU IT MUST BE USED. 0.5 IS RECOMMENDED\n",
    "from tensorflow.compat.v1 import ConfigProto\n",
    "from tensorflow.compat.v1 import InteractiveSession\n",
    "\n",
    "config = ConfigProto()\n",
    "config.gpu_options.per_process_gpu_memory_fraction = 0.5\n",
    "config.gpu_options.allow_growth = True\n",
    "session = InteractiveSession(config=config)\n"
   ]
  },
  {
   "cell_type": "code",
   "execution_count": 22,
   "metadata": {
    "id": "hT2IrscoSAPw"
   },
   "outputs": [],
   "source": [
    "from tensorflow.keras.applications.vgg16 import preprocess_input        # WHEN WE INPUT IMAGE IT WILL BE USEFUL, NOW NO USE"
   ]
  },
  {
   "cell_type": "code",
   "execution_count": 37,
   "metadata": {
    "colab": {
     "base_uri": "https://localhost:8080/"
    },
    "id": "xbRCJ-kuSrGo",
    "outputId": "919f6ddf-59a9-418d-e2c3-2d900e24d8fc"
   },
   "outputs": [
    {
     "name": "stderr",
     "output_type": "stream",
     "text": [
      "/usr/local/lib/python3.6/dist-packages/tensorflow/python/keras/engine/training.py:1844: UserWarning: `Model.fit_generator` is deprecated and will be removed in a future version. Please use `Model.fit`, which supports generators.\n",
      "  warnings.warn('`Model.fit_generator` is deprecated and '\n"
     ]
    },
    {
     "name": "stdout",
     "output_type": "stream",
     "text": [
      "Epoch 1/10\n",
      " 9/37 [======>.......................] - ETA: 42s - loss: 0.0713 - accuracy: 0.9800"
     ]
    },
    {
     "name": "stderr",
     "output_type": "stream",
     "text": [
      "/usr/local/lib/python3.6/dist-packages/PIL/Image.py:932: UserWarning: Palette images with Transparency expressed in bytes should be converted to RGBA images\n",
      "  \"Palette images with Transparency expressed in bytes should be \"\n"
     ]
    },
    {
     "name": "stdout",
     "output_type": "stream",
     "text": [
      "37/37 [==============================] - 62s 2s/step - loss: 0.0596 - accuracy: 0.9833 - val_loss: 0.0471 - val_accuracy: 0.9839\n",
      "Epoch 2/10\n",
      "37/37 [==============================] - 61s 2s/step - loss: 0.0509 - accuracy: 0.9871 - val_loss: 0.0449 - val_accuracy: 0.9851\n",
      "Epoch 3/10\n",
      "37/37 [==============================] - 60s 2s/step - loss: 0.0408 - accuracy: 0.9901 - val_loss: 0.0342 - val_accuracy: 0.9876\n",
      "Epoch 4/10\n",
      "37/37 [==============================] - 58s 2s/step - loss: 0.0336 - accuracy: 0.9912 - val_loss: 0.0283 - val_accuracy: 0.9913\n",
      "Epoch 5/10\n",
      "37/37 [==============================] - 57s 2s/step - loss: 0.0351 - accuracy: 0.9904 - val_loss: 0.0319 - val_accuracy: 0.9888\n",
      "Epoch 6/10\n",
      "37/37 [==============================] - 57s 2s/step - loss: 0.0294 - accuracy: 0.9910 - val_loss: 0.0300 - val_accuracy: 0.9901\n",
      "Epoch 7/10\n",
      "37/37 [==============================] - 61s 2s/step - loss: 0.0200 - accuracy: 0.9967 - val_loss: 0.0260 - val_accuracy: 0.9913\n",
      "Epoch 8/10\n",
      "37/37 [==============================] - 60s 2s/step - loss: 0.0219 - accuracy: 0.9951 - val_loss: 0.0205 - val_accuracy: 0.9950\n",
      "Epoch 9/10\n",
      "37/37 [==============================] - 61s 2s/step - loss: 0.0217 - accuracy: 0.9964 - val_loss: 0.0400 - val_accuracy: 0.9864\n",
      "Epoch 10/10\n",
      "37/37 [==============================] - 60s 2s/step - loss: 0.0159 - accuracy: 0.9973 - val_loss: 0.0219 - val_accuracy: 0.9913\n"
     ]
    }
   ],
   "source": [
    "# FITTING OUR MODEL\n",
    "r=model.fit_generator(train_set,validation_data=val_set,epochs=10,steps_per_epoch=len(train_set),validation_steps=len(val_set))"
   ]
  },
  {
   "cell_type": "code",
   "execution_count": 38,
   "metadata": {
    "id": "fAJgpPctSlUJ"
   },
   "outputs": [],
   "source": [
    "model.save('/content/drive/MyDrive/model_vgg16.h5')      # SAVING OUR TRAINED MODEL"
   ]
  },
  {
   "cell_type": "code",
   "execution_count": 41,
   "metadata": {
    "colab": {
     "base_uri": "https://localhost:8080/",
     "height": 265
    },
    "id": "wkThnqVGfWhD",
    "outputId": "7443ba84-222f-45e5-baf1-70b7f0518bbe"
   },
   "outputs": [
    {
     "data": {
      "image/png": "[encoded data removed]",
      "text/plain": [
       "<Figure size 432x288 with 1 Axes>"
      ]
     },
     "metadata": {
      "needs_background": "light",
      "tags": []
     },
     "output_type": "display_data"
    }
   ],
   "source": [
    "# PLOTTING OUR TRAINING AND VALIDATION ACCURACY \n",
    "plt.plot(r.history['accuracy'],label='train_acc')\n",
    "plt.plot(r.history['val_accuracy'],label='val_acc')\n",
    "plt.legend()\n",
    "plt.show()"
   ]
  },
  {
   "cell_type": "code",
   "execution_count": 42,
   "metadata": {
    "colab": {
     "base_uri": "https://localhost:8080/",
     "height": 265
    },
    "id": "1SXHP5M2jDFp",
    "outputId": "5814df75-4e56-4808-903c-cb5a49a033b4"
   },
   "outputs": [
    {
     "data": {
      "image/png": "[encoded data removed]",
      "text/plain": [
       "<Figure size 432x288 with 1 Axes>"
      ]
     },
     "metadata": {
      "needs_background": "light",
      "tags": []
     },
     "output_type": "display_data"
    }
   ],
   "source": [
    "# PLOTTING OUR TRAINING AND VALIDATION LOSS\n",
    "plt.plot(r.history['loss'],label='train_loss')\n",
    "plt.plot(r.history['val_loss'],label='val_loss')\n",
    "plt.legend()\n",
    "plt.show()"
   ]
  },
  {
   "cell_type": "code",
   "execution_count": null,
   "metadata": {
    "id": "FOH2cgpIjZnB"
   },
   "outputs": [],
   "source": []
  }
 ],
 "metadata": {
  "accelerator": "GPU",
  "colab": {
   "collapsed_sections": [],
   "name": "Mask_Detection_VGG16.ipynb",
   "provenance": []
  },
  "kernelspec": {
   "display_name": "Python 3",
   "language": "python",
   "name": "python3"
  },
  "language_info": {
   "codemirror_mode": {
    "name": "ipython",
    "version": 3
   },
   "file_extension": ".py",
   "mimetype": "text/x-python",
   "name": "python",
   "nbconvert_exporter": "python",
   "pygments_lexer": "ipython3",
   "version": "3.7.6"
  }
 },
 "nbformat": 4,
 "nbformat_minor": 1
}
