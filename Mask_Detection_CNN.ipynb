{
  "nbformat": 4,
  "nbformat_minor": 0,
  "metadata": {
    "accelerator": "GPU",
    "colab": {
      "name": "Mask_Detection.ipynb",
      "provenance": [],
      "collapsed_sections": []
    },
    "kernelspec": {
      "display_name": "Python 3",
      "name": "python3"
    }
  },
  "cells": [
    {
      "cell_type": "code",
      "metadata": {
        "id": "JuEaXYPySWRk"
      },
      "source": [
        "import tensorflow as tf"
      ],
      "execution_count": null,
      "outputs": []
    },
    {
      "cell_type": "code",
      "metadata": {
        "id": "_qPDk1TeWYwO"
      },
      "source": [
        "# TO WORK TENSORFLOW SUCCESSFULLY ON GPU'S\r\n",
        "from tensorflow.compat.v1 import ConfigProto\r\n",
        "from tensorflow.compat.v1 import InteractiveSession\r\n",
        "\r\n",
        "config = ConfigProto()\r\n",
        "config.gpu_options.per_process_gpu_memory_fraction = 0.5\r\n",
        "config.gpu_options.allow_growth = True\r\n",
        "session = InteractiveSession(config=config)"
      ],
      "execution_count": 1,
      "outputs": []
    },
    {
      "cell_type": "code",
      "metadata": {
        "colab": {
          "base_uri": "https://localhost:8080/",
          "height": 166
        },
        "id": "aUAGDTOzSi5c",
        "outputId": "080c32a8-7829-42b2-9a75-f5ea62d3f6a9"
      },
      "source": [
        "tf.__version__"
      ],
      "execution_count": 2,
      "outputs": [
        {
          "output_type": "error",
          "ename": "NameError",
          "evalue": "ignored",
          "traceback": [
            "\u001b[0;31m---------------------------------------------------------------------------\u001b[0m",
            "\u001b[0;31mNameError\u001b[0m                                 Traceback (most recent call last)",
            "\u001b[0;32m<ipython-input-2-65996cac02ec>\u001b[0m in \u001b[0;36m<module>\u001b[0;34m()\u001b[0m\n\u001b[0;32m----> 1\u001b[0;31m \u001b[0mtf\u001b[0m\u001b[0;34m.\u001b[0m\u001b[0m__version__\u001b[0m\u001b[0;34m\u001b[0m\u001b[0;34m\u001b[0m\u001b[0m\n\u001b[0m",
            "\u001b[0;31mNameError\u001b[0m: name 'tf' is not defined"
          ]
        }
      ]
    },
    {
      "cell_type": "code",
      "metadata": {
        "id": "B8ycUe6-SsJI"
      },
      "source": [
        "!nvidia-smi"
      ],
      "execution_count": null,
      "outputs": []
    },
    {
      "cell_type": "code",
      "metadata": {
        "id": "HDyeky-ZSuuD"
      },
      "source": [
        "from tensorflow.keras.layers import Dense,Flatten,Input,Conv2D,MaxPooling2D,Dropout\r\n",
        "import matplotlib.pyplot as plt\r\n",
        "import numpy as np\r\n",
        "from tensorflow.keras.preprocessing.image import ImageDataGenerator"
      ],
      "execution_count": 3,
      "outputs": []
    },
    {
      "cell_type": "code",
      "metadata": {
        "id": "6ZbwQABJUG9F"
      },
      "source": [
        "# SETTING OUT DATA PATHS\r\n",
        "train_path='/content/drive/MyDrive/dataset/train'\r\n",
        "test_path='/content/drive/MyDrive/dataset/test'\r\n",
        "val_path='/content/drive/MyDrive/dataset/valid'"
      ],
      "execution_count": 4,
      "outputs": []
    },
    {
      "cell_type": "code",
      "metadata": {
        "id": "5maL0J5mU6tL"
      },
      "source": [
        "from glob import glob"
      ],
      "execution_count": 5,
      "outputs": []
    },
    {
      "cell_type": "code",
      "metadata": {
        "colab": {
          "base_uri": "https://localhost:8080/"
        },
        "id": "QZGDKypWWD8W",
        "outputId": "92964117-099d-4d8b-d069-acade5f0ce82"
      },
      "source": [
        "# TO KNOW NUMBER OF CLASSES\r\n",
        "folders=glob(train_path+'/*')\r\n",
        "folders"
      ],
      "execution_count": 6,
      "outputs": [
        {
          "output_type": "execute_result",
          "data": {
            "text/plain": [
              "['/content/drive/MyDrive/dataset/train/without_mask',\n",
              " '/content/drive/MyDrive/dataset/train/with_mask']"
            ]
          },
          "metadata": {
            "tags": []
          },
          "execution_count": 6
        }
      ]
    },
    {
      "cell_type": "code",
      "metadata": {
        "id": "MMv9_XfjWPAT"
      },
      "source": [
        "# DATA AUGMENTATION\r\n",
        "\r\n",
        "train_datagen=ImageDataGenerator(rescale=1./255,\r\n",
        "                                 shear_range=0.2,\r\n",
        "                                 zoom_range=0.2,\r\n",
        "                                 rotation_range=40,\r\n",
        "                                 width_shift_range=0.2,\r\n",
        "                                 height_shift_range=0.2,\r\n",
        "                                 horizontal_flip=True,\r\n",
        "                                   fill_mode='nearest')\r\n",
        "val_datagen=ImageDataGenerator(rescale=1./255)"
      ],
      "execution_count": 7,
      "outputs": []
    },
    {
      "cell_type": "code",
      "metadata": {
        "colab": {
          "base_uri": "https://localhost:8080/"
        },
        "id": "vzDS2qTAYCPo",
        "outputId": "b7210c84-932a-411d-e9e4-3a2c8b125f1c"
      },
      "source": [
        "# retrieval of images\r\n",
        "train_set=train_datagen.flow_from_directory(train_path,target_size=(200,200),batch_size=128,class_mode='binary')\r\n",
        "val_set=val_datagen.flow_from_directory(val_path,target_size=(200,200),batch_size=128,class_mode='binary')\r\n"
      ],
      "execution_count": 8,
      "outputs": [
        {
          "output_type": "stream",
          "text": [
            "Found 3649 images belonging to 2 classes.\n",
            "Found 806 images belonging to 2 classes.\n"
          ],
          "name": "stdout"
        }
      ]
    },
    {
      "cell_type": "code",
      "metadata": {
        "id": "em4msBqXY181",
        "colab": {
          "base_uri": "https://localhost:8080/"
        },
        "outputId": "ce73806f-7462-4786-f67a-bedcaef8899b"
      },
      "source": [
        "from tensorflow import keras\r\n",
        "cnn_model = keras.models.Sequential([\r\n",
        "                                    keras.layers.Conv2D(filters=32, kernel_size=5, input_shape=[200, 200, 3]),\r\n",
        "                                    keras.layers.MaxPooling2D(pool_size=(4,4)),\r\n",
        "                                    keras.layers.Conv2D(filters=64, kernel_size=4),\r\n",
        "                                    keras.layers.MaxPooling2D(pool_size=(3,3)),\r\n",
        "                                    keras.layers.Conv2D(filters=128, kernel_size=3),\r\n",
        "                                    keras.layers.MaxPooling2D(pool_size=(2,2)),                                    \r\n",
        "                                    keras.layers.Conv2D(filters=256, kernel_size=2),\r\n",
        "                                    keras.layers.MaxPooling2D(pool_size=(2,2)),\r\n",
        " \r\n",
        "                                    keras.layers.Dropout(0.5),                                                                        \r\n",
        "                                    keras.layers.Flatten(), # neural network beulding\r\n",
        "                                    keras.layers.Dense(units=128, activation='relu'), # input layers\r\n",
        "                                    keras.layers.Dropout(0.1),                                    \r\n",
        "                                    keras.layers.Dense(units=256, activation='relu'),                                    \r\n",
        "                                    keras.layers.Dropout(0.25),                                    \r\n",
        "                                    keras.layers.Dense(units=2, activation='softmax') # output layer\r\n",
        "])\r\n",
        " \r\n",
        " \r\n",
        "# compile cnn model\r\n",
        "cnn_model.compile(optimizer = 'adam', loss='sparse_categorical_crossentropy', metrics=['accuracy'])\r\n",
        "#cnn_model.compile(optimizer = Adam(lr=0.0001), loss='categorical_crossentropy', metrics=['accuracy'])\r\n",
        " \r\n",
        "# train cnn model\r\n",
        "history = cnn_model.fit(train_set, \r\n",
        "                          epochs=10, \r\n",
        "                          verbose=1, \r\n",
        "                          validation_data= val_set) # time start 14.25\r\n",
        " \r\n",
        "cnn_model.save('/content/drive/MyDrive/model_last.h5')\r\n",
        " \r\n",
        "\r\n"
      ],
      "execution_count": 12,
      "outputs": [
        {
          "output_type": "stream",
          "text": [
            "Epoch 1/10\n",
            "18/29 [=================>............] - ETA: 8:31 - loss: 0.6650 - accuracy: 0.5738"
          ],
          "name": "stdout"
        },
        {
          "output_type": "stream",
          "text": [
            "/usr/local/lib/python3.6/dist-packages/PIL/Image.py:932: UserWarning: Palette images with Transparency expressed in bytes should be converted to RGBA images\n",
            "  \"Palette images with Transparency expressed in bytes should be \"\n"
          ],
          "name": "stderr"
        },
        {
          "output_type": "stream",
          "text": [
            "29/29 [==============================] - 1612s 56s/step - loss: 0.6167 - accuracy: 0.6296 - val_loss: 0.2456 - val_accuracy: 0.9194\n",
            "Epoch 2/10\n",
            "29/29 [==============================] - 46s 2s/step - loss: 0.3221 - accuracy: 0.8751 - val_loss: 0.1811 - val_accuracy: 0.9367\n",
            "Epoch 3/10\n",
            "29/29 [==============================] - 45s 2s/step - loss: 0.3001 - accuracy: 0.8888 - val_loss: 0.2194 - val_accuracy: 0.9206\n",
            "Epoch 4/10\n",
            "29/29 [==============================] - 46s 2s/step - loss: 0.2788 - accuracy: 0.8995 - val_loss: 0.2041 - val_accuracy: 0.9280\n",
            "Epoch 5/10\n",
            "29/29 [==============================] - 45s 2s/step - loss: 0.2714 - accuracy: 0.8947 - val_loss: 0.1544 - val_accuracy: 0.9479\n",
            "Epoch 6/10\n",
            "29/29 [==============================] - 45s 2s/step - loss: 0.2681 - accuracy: 0.9002 - val_loss: 0.1638 - val_accuracy: 0.9429\n",
            "Epoch 7/10\n",
            "29/29 [==============================] - 45s 2s/step - loss: 0.2621 - accuracy: 0.9077 - val_loss: 0.1528 - val_accuracy: 0.9417\n",
            "Epoch 8/10\n",
            "29/29 [==============================] - 45s 2s/step - loss: 0.2429 - accuracy: 0.9091 - val_loss: 0.1476 - val_accuracy: 0.9467\n",
            "Epoch 9/10\n",
            "29/29 [==============================] - 46s 2s/step - loss: 0.2168 - accuracy: 0.9205 - val_loss: 0.1372 - val_accuracy: 0.9628\n",
            "Epoch 10/10\n",
            "29/29 [==============================] - 45s 2s/step - loss: 0.2307 - accuracy: 0.9244 - val_loss: 0.1513 - val_accuracy: 0.9615\n"
          ],
          "name": "stdout"
        }
      ]
    },
    {
      "cell_type": "code",
      "metadata": {
        "id": "8aUYNyzc3-lf"
      },
      "source": [
        "import matplotlib.pyplot as plt\r\n"
      ],
      "execution_count": 13,
      "outputs": []
    },
    {
      "cell_type": "code",
      "metadata": {
        "id": "lbwrUtKXApgZ",
        "outputId": "0d83d336-50fe-4214-eab9-d65ba37e0706",
        "colab": {
          "base_uri": "https://localhost:8080/",
          "height": 265
        }
      },
      "source": [
        "plt.plot(history.history['accuracy'],label='train_accuracy')\r\n",
        "plt.plot(history.history['val_accuracy'],label='val_accuracy')\r\n",
        "plt.legend()\r\n",
        "plt.show()"
      ],
      "execution_count": 20,
      "outputs": [
        {
          "output_type": "display_data",
          "data": {
            "image/png": "[encoded data removed]",
            "text/plain": [
              "<Figure size 432x288 with 1 Axes>"
            ]
          },
          "metadata": {
            "tags": [],
            "needs_background": "light"
          }
        }
      ]
    },
    {
      "cell_type": "code",
      "metadata": {
        "id": "ffXVU7llAxKG",
        "outputId": "c6ba1b68-cb86-4102-809b-755d33143bbe",
        "colab": {
          "base_uri": "https://localhost:8080/",
          "height": 265
        }
      },
      "source": [
        "plt.plot(history.history['loss'],label='train_loss')\r\n",
        "plt.plot(history.history['val_loss'],label='val_loss')\r\n",
        "plt.legend()\r\n",
        "plt.show()"
      ],
      "execution_count": 21,
      "outputs": [
        {
          "output_type": "display_data",
          "data": {
            "image/png": "[encoded data removed]",
            "text/plain": [
              "<Figure size 432x288 with 1 Axes>"
            ]
          },
          "metadata": {
            "tags": [],
            "needs_background": "light"
          }
        }
      ]
    },
    {
      "cell_type": "code",
      "metadata": {
        "id": "Lh4NHZhfDQaj"
      },
      "source": [
        ""
      ],
      "execution_count": null,
      "outputs": []
    }
  ]
}